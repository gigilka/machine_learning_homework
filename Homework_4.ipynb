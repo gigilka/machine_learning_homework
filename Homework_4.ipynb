{
 "cells": [
  {
   "cell_type": "markdown",
   "id": "ecee79f1-047a-425e-8189-72abb8a31e16",
   "metadata": {},
   "source": [
    "# Описание задачи"
   ]
  },
  {
   "cell_type": "raw",
   "id": "109a5bb2-016a-4d30-9e26-8c33434b7a2e",
   "metadata": {},
   "source": [
    "Датасет содержит 236378 записей о пациентах, имеющих предиабетный или диабетный статус и не имеющих диабета. Задача: по имеющимся признакам (таким как имт, уровень холестерина, образ жизни и привычки, доходы, образования, пол и др.) предсказать, к какому классу относится пациент: имеющий предиабет или диабет, или не имеющий."
   ]
  },
  {
   "cell_type": "code",
   "execution_count": null,
   "id": "385d1247-c52c-468e-ab1e-002cafc719bf",
   "metadata": {},
   "outputs": [],
   "source": [
    "import os\n",
    "import numpy\n",
    "import pandas\n",
    "import matplotlib.pyplot\n",
    "import seaborn\n",
    "import sklearn\n",
    "import sklearn.model_selection\n",
    "import sklearn.neighbors\n",
    "import sklearn.ensemble"
   ]
  }
 ],
 "metadata": {
  "kernelspec": {
   "display_name": "Python 3 (ipykernel)",
   "language": "python",
   "name": "python3"
  },
  "language_info": {
   "codemirror_mode": {
    "name": "ipython",
    "version": 3
   },
   "file_extension": ".py",
   "mimetype": "text/x-python",
   "name": "python",
   "nbconvert_exporter": "python",
   "pygments_lexer": "ipython3",
   "version": "3.11.5"
  }
 },
 "nbformat": 4,
 "nbformat_minor": 5
}
